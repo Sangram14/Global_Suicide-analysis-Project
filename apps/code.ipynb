{
 "cells": [
  {
   "cell_type": "markdown",
   "metadata": {},
   "source": [
    "# IMPORTING ALL THE REQUIRED LIBRARIES"
   ]
  },
  {
   "cell_type": "code",
   "execution_count": 2,
   "metadata": {},
   "outputs": [
    {
     "data": {
      "text/html": [
       "        <script type=\"text/javascript\">\n",
       "        window.PlotlyConfig = {MathJaxConfig: 'local'};\n",
       "        if (window.MathJax) {MathJax.Hub.Config({SVG: {font: \"STIX-Web\"}});}\n",
       "        if (typeof require !== 'undefined') {\n",
       "        require.undef(\"plotly\");\n",
       "        requirejs.config({\n",
       "            paths: {\n",
       "                'plotly': ['https://cdn.plot.ly/plotly-latest.min']\n",
       "            }\n",
       "        });\n",
       "        require(['plotly'], function(Plotly) {\n",
       "            window._Plotly = Plotly;\n",
       "        });\n",
       "        }\n",
       "        </script>\n",
       "        "
      ]
     },
     "metadata": {},
     "output_type": "display_data"
    }
   ],
   "source": [
    "#importing the basics libraries required for data analysis \n",
    "\n",
    "\n",
    "import numpy as np\n",
    "import matplotlib.pyplot as plt\n",
    "import pandas as pd\n",
    "import plotly as py\n",
    "import plotly.graph_objs as go\n",
    "import ipywidgets as widgets\n",
    "import plotly.offline as po\n",
    "import dash\n",
    "import dash_core_components as dcc\n",
    "import dash_html_components as html\n",
    "import json\n",
    "import dash_bootstrap_components as dbc\n",
    "import plotly.express as px\n",
    "from dash.dependencies import Input,Output \n",
    "\n",
    "\n",
    "\n",
    "py.offline.init_notebook_mode(connected=True)"
   ]
  },
  {
   "cell_type": "markdown",
   "metadata": {},
   "source": [
    "# IMPORTING THE DATASET"
   ]
  },
  {
   "cell_type": "code",
   "execution_count": 3,
   "metadata": {},
   "outputs": [],
   "source": [
    "#LEts now import the csv file\n",
    "\n",
    "url=\"https://raw.githubusercontent.com/Sangram14/Global_Suicide-analysis-Project/main/dataset/dataset.csv\"\n",
    "df=pd.read_csv(url)\n"
   ]
  },
  {
   "cell_type": "markdown",
   "metadata": {},
   "source": [
    "# DATA WRANGLING"
   ]
  },
  {
   "cell_type": "code",
   "execution_count": 4,
   "metadata": {},
   "outputs": [
    {
     "data": {
      "text/html": [
       "<div>\n",
       "<style scoped>\n",
       "    .dataframe tbody tr th:only-of-type {\n",
       "        vertical-align: middle;\n",
       "    }\n",
       "\n",
       "    .dataframe tbody tr th {\n",
       "        vertical-align: top;\n",
       "    }\n",
       "\n",
       "    .dataframe thead th {\n",
       "        text-align: right;\n",
       "    }\n",
       "</style>\n",
       "<table border=\"1\" class=\"dataframe\">\n",
       "  <thead>\n",
       "    <tr style=\"text-align: right;\">\n",
       "      <th></th>\n",
       "      <th>country</th>\n",
       "      <th>year</th>\n",
       "      <th>sex</th>\n",
       "      <th>age</th>\n",
       "      <th>suicides_no</th>\n",
       "      <th>population</th>\n",
       "      <th>suicides/100k pop</th>\n",
       "      <th>country-year</th>\n",
       "      <th>HDI for year</th>\n",
       "      <th>gdp_for_year ($)</th>\n",
       "      <th>gdp_per_capita ($)</th>\n",
       "      <th>generation</th>\n",
       "    </tr>\n",
       "  </thead>\n",
       "  <tbody>\n",
       "    <tr>\n",
       "      <th>0</th>\n",
       "      <td>Albania</td>\n",
       "      <td>1987</td>\n",
       "      <td>male</td>\n",
       "      <td>15-24 years</td>\n",
       "      <td>21</td>\n",
       "      <td>312900</td>\n",
       "      <td>6.71</td>\n",
       "      <td>Albania1987</td>\n",
       "      <td>NaN</td>\n",
       "      <td>2,156,624,900</td>\n",
       "      <td>796</td>\n",
       "      <td>Generation X</td>\n",
       "    </tr>\n",
       "    <tr>\n",
       "      <th>1</th>\n",
       "      <td>Albania</td>\n",
       "      <td>1987</td>\n",
       "      <td>male</td>\n",
       "      <td>35-54 years</td>\n",
       "      <td>16</td>\n",
       "      <td>308000</td>\n",
       "      <td>5.19</td>\n",
       "      <td>Albania1987</td>\n",
       "      <td>NaN</td>\n",
       "      <td>2,156,624,900</td>\n",
       "      <td>796</td>\n",
       "      <td>Silent</td>\n",
       "    </tr>\n",
       "    <tr>\n",
       "      <th>2</th>\n",
       "      <td>Albania</td>\n",
       "      <td>1987</td>\n",
       "      <td>female</td>\n",
       "      <td>15-24 years</td>\n",
       "      <td>14</td>\n",
       "      <td>289700</td>\n",
       "      <td>4.83</td>\n",
       "      <td>Albania1987</td>\n",
       "      <td>NaN</td>\n",
       "      <td>2,156,624,900</td>\n",
       "      <td>796</td>\n",
       "      <td>Generation X</td>\n",
       "    </tr>\n",
       "    <tr>\n",
       "      <th>3</th>\n",
       "      <td>Albania</td>\n",
       "      <td>1987</td>\n",
       "      <td>male</td>\n",
       "      <td>75+ years</td>\n",
       "      <td>1</td>\n",
       "      <td>21800</td>\n",
       "      <td>4.59</td>\n",
       "      <td>Albania1987</td>\n",
       "      <td>NaN</td>\n",
       "      <td>2,156,624,900</td>\n",
       "      <td>796</td>\n",
       "      <td>G.I. Generation</td>\n",
       "    </tr>\n",
       "    <tr>\n",
       "      <th>4</th>\n",
       "      <td>Albania</td>\n",
       "      <td>1987</td>\n",
       "      <td>male</td>\n",
       "      <td>25-34 years</td>\n",
       "      <td>9</td>\n",
       "      <td>274300</td>\n",
       "      <td>3.28</td>\n",
       "      <td>Albania1987</td>\n",
       "      <td>NaN</td>\n",
       "      <td>2,156,624,900</td>\n",
       "      <td>796</td>\n",
       "      <td>Boomers</td>\n",
       "    </tr>\n",
       "  </tbody>\n",
       "</table>\n",
       "</div>"
      ],
      "text/plain": [
       "   country  year     sex          age  suicides_no  population  \\\n",
       "0  Albania  1987    male  15-24 years           21      312900   \n",
       "1  Albania  1987    male  35-54 years           16      308000   \n",
       "2  Albania  1987  female  15-24 years           14      289700   \n",
       "3  Albania  1987    male    75+ years            1       21800   \n",
       "4  Albania  1987    male  25-34 years            9      274300   \n",
       "\n",
       "   suicides/100k pop country-year  HDI for year  gdp_for_year ($)   \\\n",
       "0               6.71  Albania1987           NaN      2,156,624,900   \n",
       "1               5.19  Albania1987           NaN      2,156,624,900   \n",
       "2               4.83  Albania1987           NaN      2,156,624,900   \n",
       "3               4.59  Albania1987           NaN      2,156,624,900   \n",
       "4               3.28  Albania1987           NaN      2,156,624,900   \n",
       "\n",
       "   gdp_per_capita ($)       generation  \n",
       "0                 796     Generation X  \n",
       "1                 796           Silent  \n",
       "2                 796     Generation X  \n",
       "3                 796  G.I. Generation  \n",
       "4                 796          Boomers  "
      ]
     },
     "execution_count": 4,
     "metadata": {},
     "output_type": "execute_result"
    }
   ],
   "source": [
    "df.head()\n"
   ]
  },
  {
   "cell_type": "code",
   "execution_count": 5,
   "metadata": {
    "scrolled": true
   },
   "outputs": [
    {
     "name": "stdout",
     "output_type": "stream",
     "text": [
      "<class 'pandas.core.frame.DataFrame'>\n",
      "RangeIndex: 27820 entries, 0 to 27819\n",
      "Data columns (total 12 columns):\n",
      " #   Column              Non-Null Count  Dtype  \n",
      "---  ------              --------------  -----  \n",
      " 0   country             27820 non-null  object \n",
      " 1   year                27820 non-null  int64  \n",
      " 2   sex                 27820 non-null  object \n",
      " 3   age                 27820 non-null  object \n",
      " 4   suicides_no         27820 non-null  int64  \n",
      " 5   population          27820 non-null  int64  \n",
      " 6   suicides/100k pop   27820 non-null  float64\n",
      " 7   country-year        27820 non-null  object \n",
      " 8   HDI for year        8364 non-null   float64\n",
      " 9    gdp_for_year ($)   27820 non-null  object \n",
      " 10  gdp_per_capita ($)  27820 non-null  int64  \n",
      " 11  generation          27820 non-null  object \n",
      "dtypes: float64(2), int64(4), object(6)\n",
      "memory usage: 2.5+ MB\n"
     ]
    }
   ],
   "source": [
    "df.info()"
   ]
  },
  {
   "cell_type": "code",
   "execution_count": 6,
   "metadata": {},
   "outputs": [],
   "source": [
    "#delete the columns which are not useful to us\n",
    "\n",
    "df.drop(['country-year','HDI for year','gdp_per_capita ($)'],axis=1,inplace=True)"
   ]
  },
  {
   "cell_type": "code",
   "execution_count": 7,
   "metadata": {},
   "outputs": [
    {
     "data": {
      "text/html": [
       "<div>\n",
       "<style scoped>\n",
       "    .dataframe tbody tr th:only-of-type {\n",
       "        vertical-align: middle;\n",
       "    }\n",
       "\n",
       "    .dataframe tbody tr th {\n",
       "        vertical-align: top;\n",
       "    }\n",
       "\n",
       "    .dataframe thead th {\n",
       "        text-align: right;\n",
       "    }\n",
       "</style>\n",
       "<table border=\"1\" class=\"dataframe\">\n",
       "  <thead>\n",
       "    <tr style=\"text-align: right;\">\n",
       "      <th></th>\n",
       "      <th>country</th>\n",
       "      <th>year</th>\n",
       "      <th>sex</th>\n",
       "      <th>age</th>\n",
       "      <th>suicides_no</th>\n",
       "      <th>population</th>\n",
       "      <th>suicides/100k pop</th>\n",
       "      <th>gdp_for_year ($)</th>\n",
       "      <th>generation</th>\n",
       "    </tr>\n",
       "  </thead>\n",
       "  <tbody>\n",
       "    <tr>\n",
       "      <th>0</th>\n",
       "      <td>Albania</td>\n",
       "      <td>1987</td>\n",
       "      <td>male</td>\n",
       "      <td>15-24 years</td>\n",
       "      <td>21</td>\n",
       "      <td>312900</td>\n",
       "      <td>6.71</td>\n",
       "      <td>2,156,624,900</td>\n",
       "      <td>Generation X</td>\n",
       "    </tr>\n",
       "    <tr>\n",
       "      <th>1</th>\n",
       "      <td>Albania</td>\n",
       "      <td>1987</td>\n",
       "      <td>male</td>\n",
       "      <td>35-54 years</td>\n",
       "      <td>16</td>\n",
       "      <td>308000</td>\n",
       "      <td>5.19</td>\n",
       "      <td>2,156,624,900</td>\n",
       "      <td>Silent</td>\n",
       "    </tr>\n",
       "    <tr>\n",
       "      <th>2</th>\n",
       "      <td>Albania</td>\n",
       "      <td>1987</td>\n",
       "      <td>female</td>\n",
       "      <td>15-24 years</td>\n",
       "      <td>14</td>\n",
       "      <td>289700</td>\n",
       "      <td>4.83</td>\n",
       "      <td>2,156,624,900</td>\n",
       "      <td>Generation X</td>\n",
       "    </tr>\n",
       "    <tr>\n",
       "      <th>3</th>\n",
       "      <td>Albania</td>\n",
       "      <td>1987</td>\n",
       "      <td>male</td>\n",
       "      <td>75+ years</td>\n",
       "      <td>1</td>\n",
       "      <td>21800</td>\n",
       "      <td>4.59</td>\n",
       "      <td>2,156,624,900</td>\n",
       "      <td>G.I. Generation</td>\n",
       "    </tr>\n",
       "    <tr>\n",
       "      <th>4</th>\n",
       "      <td>Albania</td>\n",
       "      <td>1987</td>\n",
       "      <td>male</td>\n",
       "      <td>25-34 years</td>\n",
       "      <td>9</td>\n",
       "      <td>274300</td>\n",
       "      <td>3.28</td>\n",
       "      <td>2,156,624,900</td>\n",
       "      <td>Boomers</td>\n",
       "    </tr>\n",
       "  </tbody>\n",
       "</table>\n",
       "</div>"
      ],
      "text/plain": [
       "   country  year     sex          age  suicides_no  population  \\\n",
       "0  Albania  1987    male  15-24 years           21      312900   \n",
       "1  Albania  1987    male  35-54 years           16      308000   \n",
       "2  Albania  1987  female  15-24 years           14      289700   \n",
       "3  Albania  1987    male    75+ years            1       21800   \n",
       "4  Albania  1987    male  25-34 years            9      274300   \n",
       "\n",
       "   suicides/100k pop  gdp_for_year ($)        generation  \n",
       "0               6.71      2,156,624,900     Generation X  \n",
       "1               5.19      2,156,624,900           Silent  \n",
       "2               4.83      2,156,624,900     Generation X  \n",
       "3               4.59      2,156,624,900  G.I. Generation  \n",
       "4               3.28      2,156,624,900          Boomers  "
      ]
     },
     "execution_count": 7,
     "metadata": {},
     "output_type": "execute_result"
    }
   ],
   "source": [
    "df.head()"
   ]
  },
  {
   "cell_type": "code",
   "execution_count": 8,
   "metadata": {},
   "outputs": [
    {
     "data": {
      "text/plain": [
       "Index(['country', 'year', 'sex', 'age', 'suicides_no', 'population',\n",
       "       'suicides/100k pop', ' gdp_for_year ($) ', 'generation'],\n",
       "      dtype='object')"
      ]
     },
     "execution_count": 8,
     "metadata": {},
     "output_type": "execute_result"
    }
   ],
   "source": [
    "df.columns"
   ]
  },
  {
   "cell_type": "code",
   "execution_count": 9,
   "metadata": {},
   "outputs": [],
   "source": [
    "#Deleting a row using the del function.\n",
    "\n",
    "del df[' gdp_for_year ($) ']"
   ]
  },
  {
   "cell_type": "code",
   "execution_count": 10,
   "metadata": {},
   "outputs": [
    {
     "data": {
      "text/html": [
       "<div>\n",
       "<style scoped>\n",
       "    .dataframe tbody tr th:only-of-type {\n",
       "        vertical-align: middle;\n",
       "    }\n",
       "\n",
       "    .dataframe tbody tr th {\n",
       "        vertical-align: top;\n",
       "    }\n",
       "\n",
       "    .dataframe thead th {\n",
       "        text-align: right;\n",
       "    }\n",
       "</style>\n",
       "<table border=\"1\" class=\"dataframe\">\n",
       "  <thead>\n",
       "    <tr style=\"text-align: right;\">\n",
       "      <th></th>\n",
       "      <th>country</th>\n",
       "      <th>year</th>\n",
       "      <th>sex</th>\n",
       "      <th>age</th>\n",
       "      <th>suicides_no</th>\n",
       "      <th>population</th>\n",
       "      <th>suicides/100k pop</th>\n",
       "      <th>generation</th>\n",
       "    </tr>\n",
       "  </thead>\n",
       "  <tbody>\n",
       "    <tr>\n",
       "      <th>0</th>\n",
       "      <td>Albania</td>\n",
       "      <td>1987</td>\n",
       "      <td>male</td>\n",
       "      <td>15-24 years</td>\n",
       "      <td>21</td>\n",
       "      <td>312900</td>\n",
       "      <td>6.71</td>\n",
       "      <td>Generation X</td>\n",
       "    </tr>\n",
       "    <tr>\n",
       "      <th>1</th>\n",
       "      <td>Albania</td>\n",
       "      <td>1987</td>\n",
       "      <td>male</td>\n",
       "      <td>35-54 years</td>\n",
       "      <td>16</td>\n",
       "      <td>308000</td>\n",
       "      <td>5.19</td>\n",
       "      <td>Silent</td>\n",
       "    </tr>\n",
       "    <tr>\n",
       "      <th>2</th>\n",
       "      <td>Albania</td>\n",
       "      <td>1987</td>\n",
       "      <td>female</td>\n",
       "      <td>15-24 years</td>\n",
       "      <td>14</td>\n",
       "      <td>289700</td>\n",
       "      <td>4.83</td>\n",
       "      <td>Generation X</td>\n",
       "    </tr>\n",
       "    <tr>\n",
       "      <th>3</th>\n",
       "      <td>Albania</td>\n",
       "      <td>1987</td>\n",
       "      <td>male</td>\n",
       "      <td>75+ years</td>\n",
       "      <td>1</td>\n",
       "      <td>21800</td>\n",
       "      <td>4.59</td>\n",
       "      <td>G.I. Generation</td>\n",
       "    </tr>\n",
       "    <tr>\n",
       "      <th>4</th>\n",
       "      <td>Albania</td>\n",
       "      <td>1987</td>\n",
       "      <td>male</td>\n",
       "      <td>25-34 years</td>\n",
       "      <td>9</td>\n",
       "      <td>274300</td>\n",
       "      <td>3.28</td>\n",
       "      <td>Boomers</td>\n",
       "    </tr>\n",
       "  </tbody>\n",
       "</table>\n",
       "</div>"
      ],
      "text/plain": [
       "   country  year     sex          age  suicides_no  population  \\\n",
       "0  Albania  1987    male  15-24 years           21      312900   \n",
       "1  Albania  1987    male  35-54 years           16      308000   \n",
       "2  Albania  1987  female  15-24 years           14      289700   \n",
       "3  Albania  1987    male    75+ years            1       21800   \n",
       "4  Albania  1987    male  25-34 years            9      274300   \n",
       "\n",
       "   suicides/100k pop       generation  \n",
       "0               6.71     Generation X  \n",
       "1               5.19           Silent  \n",
       "2               4.83     Generation X  \n",
       "3               4.59  G.I. Generation  \n",
       "4               3.28          Boomers  "
      ]
     },
     "execution_count": 10,
     "metadata": {},
     "output_type": "execute_result"
    }
   ],
   "source": [
    "df.head()"
   ]
  },
  {
   "cell_type": "code",
   "execution_count": 11,
   "metadata": {},
   "outputs": [
    {
     "name": "stdout",
     "output_type": "stream",
     "text": [
      "<class 'pandas.core.frame.DataFrame'>\n",
      "RangeIndex: 27820 entries, 0 to 27819\n",
      "Data columns (total 8 columns):\n",
      " #   Column             Non-Null Count  Dtype  \n",
      "---  ------             --------------  -----  \n",
      " 0   country            27820 non-null  object \n",
      " 1   year               27820 non-null  int64  \n",
      " 2   sex                27820 non-null  object \n",
      " 3   age                27820 non-null  object \n",
      " 4   suicides_no        27820 non-null  int64  \n",
      " 5   population         27820 non-null  int64  \n",
      " 6   suicides/100k pop  27820 non-null  float64\n",
      " 7   generation         27820 non-null  object \n",
      "dtypes: float64(1), int64(3), object(4)\n",
      "memory usage: 1.7+ MB\n"
     ]
    }
   ],
   "source": [
    "df.info()\n"
   ]
  },
  {
   "cell_type": "code",
   "execution_count": 12,
   "metadata": {},
   "outputs": [
    {
     "data": {
      "text/plain": [
       "country              0\n",
       "year                 0\n",
       "sex                  0\n",
       "age                  0\n",
       "suicides_no          0\n",
       "population           0\n",
       "suicides/100k pop    0\n",
       "generation           0\n",
       "dtype: int64"
      ]
     },
     "execution_count": 12,
     "metadata": {},
     "output_type": "execute_result"
    }
   ],
   "source": [
    "df.isna().sum()"
   ]
  },
  {
   "cell_type": "code",
   "execution_count": 13,
   "metadata": {},
   "outputs": [
    {
     "data": {
      "text/html": [
       "<div>\n",
       "<style scoped>\n",
       "    .dataframe tbody tr th:only-of-type {\n",
       "        vertical-align: middle;\n",
       "    }\n",
       "\n",
       "    .dataframe tbody tr th {\n",
       "        vertical-align: top;\n",
       "    }\n",
       "\n",
       "    .dataframe thead th {\n",
       "        text-align: right;\n",
       "    }\n",
       "</style>\n",
       "<table border=\"1\" class=\"dataframe\">\n",
       "  <thead>\n",
       "    <tr style=\"text-align: right;\">\n",
       "      <th></th>\n",
       "      <th>year</th>\n",
       "      <th>suicides_no</th>\n",
       "      <th>population</th>\n",
       "      <th>suicides/100k pop</th>\n",
       "    </tr>\n",
       "  </thead>\n",
       "  <tbody>\n",
       "    <tr>\n",
       "      <th>count</th>\n",
       "      <td>27820.000000</td>\n",
       "      <td>27820.000000</td>\n",
       "      <td>2.782000e+04</td>\n",
       "      <td>27820.000000</td>\n",
       "    </tr>\n",
       "    <tr>\n",
       "      <th>mean</th>\n",
       "      <td>2001.258375</td>\n",
       "      <td>242.574407</td>\n",
       "      <td>1.844794e+06</td>\n",
       "      <td>12.816097</td>\n",
       "    </tr>\n",
       "    <tr>\n",
       "      <th>std</th>\n",
       "      <td>8.469055</td>\n",
       "      <td>902.047917</td>\n",
       "      <td>3.911779e+06</td>\n",
       "      <td>18.961511</td>\n",
       "    </tr>\n",
       "    <tr>\n",
       "      <th>min</th>\n",
       "      <td>1985.000000</td>\n",
       "      <td>0.000000</td>\n",
       "      <td>2.780000e+02</td>\n",
       "      <td>0.000000</td>\n",
       "    </tr>\n",
       "    <tr>\n",
       "      <th>25%</th>\n",
       "      <td>1995.000000</td>\n",
       "      <td>3.000000</td>\n",
       "      <td>9.749850e+04</td>\n",
       "      <td>0.920000</td>\n",
       "    </tr>\n",
       "    <tr>\n",
       "      <th>50%</th>\n",
       "      <td>2002.000000</td>\n",
       "      <td>25.000000</td>\n",
       "      <td>4.301500e+05</td>\n",
       "      <td>5.990000</td>\n",
       "    </tr>\n",
       "    <tr>\n",
       "      <th>75%</th>\n",
       "      <td>2008.000000</td>\n",
       "      <td>131.000000</td>\n",
       "      <td>1.486143e+06</td>\n",
       "      <td>16.620000</td>\n",
       "    </tr>\n",
       "    <tr>\n",
       "      <th>max</th>\n",
       "      <td>2016.000000</td>\n",
       "      <td>22338.000000</td>\n",
       "      <td>4.380521e+07</td>\n",
       "      <td>224.970000</td>\n",
       "    </tr>\n",
       "  </tbody>\n",
       "</table>\n",
       "</div>"
      ],
      "text/plain": [
       "               year   suicides_no    population  suicides/100k pop\n",
       "count  27820.000000  27820.000000  2.782000e+04       27820.000000\n",
       "mean    2001.258375    242.574407  1.844794e+06          12.816097\n",
       "std        8.469055    902.047917  3.911779e+06          18.961511\n",
       "min     1985.000000      0.000000  2.780000e+02           0.000000\n",
       "25%     1995.000000      3.000000  9.749850e+04           0.920000\n",
       "50%     2002.000000     25.000000  4.301500e+05           5.990000\n",
       "75%     2008.000000    131.000000  1.486143e+06          16.620000\n",
       "max     2016.000000  22338.000000  4.380521e+07         224.970000"
      ]
     },
     "execution_count": 13,
     "metadata": {},
     "output_type": "execute_result"
    }
   ],
   "source": [
    "df.describe()"
   ]
  },
  {
   "cell_type": "code",
   "execution_count": 14,
   "metadata": {},
   "outputs": [
    {
     "name": "stdout",
     "output_type": "stream",
     "text": [
      "(27820, 8)\n"
     ]
    },
    {
     "data": {
      "text/plain": [
       "pandas.core.frame.DataFrame"
      ]
     },
     "execution_count": 14,
     "metadata": {},
     "output_type": "execute_result"
    }
   ],
   "source": [
    "print(df.shape)\n",
    "type(df)"
   ]
  },
  {
   "cell_type": "code",
   "execution_count": 15,
   "metadata": {},
   "outputs": [
    {
     "name": "stdout",
     "output_type": "stream",
     "text": [
      "101\n",
      "['Albania' 'Antigua and Barbuda' 'Argentina' 'Armenia' 'Aruba' 'Australia'\n",
      " 'Austria' 'Azerbaijan' 'Bahamas' 'Bahrain' 'Barbados' 'Belarus' 'Belgium'\n",
      " 'Belize' 'Bosnia and Herzegovina' 'Brazil' 'Bulgaria' 'Cabo Verde'\n",
      " 'Canada' 'Chile' 'Colombia' 'Costa Rica' 'Croatia' 'Cuba' 'Cyprus'\n",
      " 'Czech Republic' 'Denmark' 'Dominica' 'Ecuador' 'El Salvador' 'Estonia'\n",
      " 'Fiji' 'Finland' 'France' 'Georgia' 'Germany' 'Greece' 'Grenada'\n",
      " 'Guatemala' 'Guyana' 'Hungary' 'Iceland' 'Ireland' 'Israel' 'Italy'\n",
      " 'Jamaica' 'Japan' 'Kazakhstan' 'Kiribati' 'Kuwait' 'Kyrgyzstan' 'Latvia'\n",
      " 'Lithuania' 'Luxembourg' 'Macau' 'Maldives' 'Malta' 'Mauritius' 'Mexico'\n",
      " 'Mongolia' 'Montenegro' 'Netherlands' 'New Zealand' 'Nicaragua' 'Norway'\n",
      " 'Oman' 'Panama' 'Paraguay' 'Philippines' 'Poland' 'Portugal'\n",
      " 'Puerto Rico' 'Qatar' 'Republic of Korea' 'Romania' 'Russian Federation'\n",
      " 'Saint Kitts and Nevis' 'Saint Lucia' 'Saint Vincent and Grenadines'\n",
      " 'San Marino' 'Serbia' 'Seychelles' 'Singapore' 'Slovakia' 'Slovenia'\n",
      " 'South Africa' 'Spain' 'Sri Lanka' 'Suriname' 'Sweden' 'Switzerland'\n",
      " 'Thailand' 'Trinidad and Tobago' 'Turkey' 'Turkmenistan' 'Ukraine'\n",
      " 'United Arab Emirates' 'United Kingdom' 'United States' 'Uruguay'\n",
      " 'Uzbekistan']\n",
      "\n",
      "\n",
      "\n",
      "32\n",
      "[1987 1988 1989 1992 1993 1994 1995 1996 1997 1998 1999 2000 2001 2002\n",
      " 2003 2004 2005 2006 2007 2008 2009 2010 1985 1986 1990 1991 2012 2013\n",
      " 2014 2015 2011 2016]\n",
      "\n",
      "\n",
      "\n",
      "6\n",
      "['15-24 years' '35-54 years' '75+ years' '25-34 years' '55-74 years'\n",
      " '5-14 years']\n",
      "\n",
      "\n",
      "\n",
      "6\n",
      "['Generation X' 'Silent' 'G.I. Generation' 'Boomers' 'Millenials'\n",
      " 'Generation Z']\n",
      "\n",
      "\n",
      "\n",
      "2\n",
      "['male' 'female']\n"
     ]
    }
   ],
   "source": [
    "print(df[\"country\"].nunique())\n",
    "print(df[\"country\"].unique())\n",
    "print(\"\\n\\n\")\n",
    "\n",
    "print(df['year'].nunique())\n",
    "print(df['year'].unique())\n",
    "print(\"\\n\\n\")\n",
    "\n",
    "print(df['age'].nunique())\n",
    "print(df['age'].unique())\n",
    "print(\"\\n\\n\")\n",
    "\n",
    "print(df['generation'].nunique())\n",
    "print(df['generation'].unique())\n",
    "print(\"\\n\\n\")\n",
    "\n",
    "print(df['sex'].nunique())\n",
    "print(df['sex'].unique())"
   ]
  },
  {
   "cell_type": "code",
   "execution_count": 16,
   "metadata": {},
   "outputs": [
    {
     "data": {
      "text/plain": [
       "country\n",
       "Albania                    1970\n",
       "Antigua and Barbuda          11\n",
       "Argentina                 82219\n",
       "Armenia                    1905\n",
       "Aruba                       101\n",
       "                         ...   \n",
       "United Arab Emirates        622\n",
       "United Kingdom           136805\n",
       "United States           1034013\n",
       "Uruguay                   13138\n",
       "Uzbekistan                34803\n",
       "Name: suicides_no, Length: 101, dtype: int64"
      ]
     },
     "execution_count": 16,
     "metadata": {},
     "output_type": "execute_result"
    }
   ],
   "source": [
    "#The total suicides count in the countries in all the years from (1987-2014) as per the data.\n",
    "\n",
    "df.groupby([\"country\"])['suicides_no'].sum()"
   ]
  },
  {
   "cell_type": "code",
   "execution_count": 17,
   "metadata": {
    "scrolled": true
   },
   "outputs": [
    {
     "name": "stdout",
     "output_type": "stream",
     "text": [
      "year\n",
      "1985    116063\n",
      "1986    120670\n",
      "1987    126842\n",
      "1988    121026\n",
      "1989    160244\n",
      "1990    193361\n",
      "1991    198020\n",
      "1992    211473\n",
      "1993    221565\n",
      "1994    232063\n",
      "1995    243544\n",
      "1996    246725\n",
      "1997    240745\n",
      "1998    249591\n",
      "1999    256119\n",
      "2000    255832\n",
      "2001    250652\n",
      "2002    256095\n",
      "2003    256079\n",
      "2004    240861\n",
      "2005    234375\n",
      "2006    233361\n",
      "2007    233408\n",
      "2008    235447\n",
      "2009    243487\n",
      "2010    238702\n",
      "2011    236484\n",
      "2012    230160\n",
      "2013    223199\n",
      "2014    222984\n",
      "2015    203640\n",
      "2016     15603\n",
      "Name: suicides_no, dtype: int64\n"
     ]
    }
   ],
   "source": [
    "df.columns\n",
    "yr_scount=df.groupby(\"year\")[\"suicides_no\"].sum()\n",
    "print(yr_scount)\n",
    "\n"
   ]
  },
  {
   "cell_type": "markdown",
   "metadata": {},
   "source": [
    "# DATA ANALYSIS"
   ]
  },
  {
   "cell_type": "markdown",
   "metadata": {},
   "source": [
    "### BASIC ANALYSIS"
   ]
  },
  {
   "cell_type": "code",
   "execution_count": 18,
   "metadata": {},
   "outputs": [
    {
     "data": {
      "text/plain": [
       "'temp-plot.html'"
      ]
     },
     "execution_count": 18,
     "metadata": {},
     "output_type": "execute_result"
    }
   ],
   "source": [
    "\n",
    "\n",
    "layout=go.Layout(\n",
    "    title={\n",
    "        'text':\"Year(1985-2016) Wise Suicides\",\n",
    "        'y':0.9,\n",
    "        'x':0.5,\n",
    "        'xanchor':'center',\n",
    "        'yanchor':'top'\n",
    "        \n",
    "    },\n",
    "    yaxis=dict(\n",
    "        \n",
    "        title=\"Suicides Count\",\n",
    "       \n",
    "    ),\n",
    "    xaxis=dict(\n",
    "        title=\"Years\",\n",
    "       \n",
    "    ),\n",
    "    plot_bgcolor='rgb(230,230,230)',\n",
    "    showlegend=True\n",
    "\n",
    ")\n",
    "\n",
    "colors=['cornflowerblue','lightseagreen','steelblue']\n",
    "#cols=['darkslategray','tomato','rebeccapurple','mediumaquamarine']\n",
    "\n",
    "trace0=go.Scatter(\n",
    "    x=yr_scount.index,\n",
    "    y=yr_scount.values,\n",
    "    mode='lines+markers',\n",
    "    name=\"Sucides count\",\n",
    "    line=dict(\n",
    "        shape='spline',\n",
    "        color='steelblue',\n",
    "        width=2\n",
    "    ),\n",
    "    marker=dict(\n",
    "        color='rebeccapurple'\n",
    "    )\n",
    "    \n",
    ")\n",
    "\n",
    "data=[trace0]\n",
    "\n",
    "fig=go.Figure(data=data,layout=layout)\n",
    "po.plot(fig)\n"
   ]
  },
  {
   "cell_type": "markdown",
   "metadata": {},
   "source": [
    "### GENDER WISE ANALYSIS"
   ]
  },
  {
   "cell_type": "code",
   "execution_count": null,
   "metadata": {},
   "outputs": [],
   "source": [
    "gen_scount=df.groupby(['sex'])['suicides_no'].sum()\n",
    "print(gen_scount)"
   ]
  },
  {
   "cell_type": "code",
   "execution_count": null,
   "metadata": {},
   "outputs": [],
   "source": [
    "df['sex'].nunique()"
   ]
  },
  {
   "cell_type": "code",
   "execution_count": null,
   "metadata": {},
   "outputs": [],
   "source": [
    "layout=go.Layout(\n",
    "    title={\n",
    "        'text':\"World-Wide Suicides by Gender [Years(1985-2016)]\",\n",
    "        'y':0.9,\n",
    "        'x':0.5,\n",
    "        'xanchor':'center',\n",
    "        'yanchor':'top'\n",
    "        \n",
    "    },\n",
    ")\n",
    "\n",
    "trace0=go.Pie(\n",
    "    labels=gen_scount.index,\n",
    "    values=gen_scount.values\n",
    ")\n",
    "\n",
    "data=[trace0]\n",
    "\n",
    "fig=go.Figure(data=data,layout=layout)\n",
    "po.plot(fig)"
   ]
  },
  {
   "cell_type": "code",
   "execution_count": null,
   "metadata": {},
   "outputs": [],
   "source": [
    "dff=df.groupby(['year','sex'])['suicides_no'].sum()\n",
    "print(dff)"
   ]
  },
  {
   "cell_type": "code",
   "execution_count": null,
   "metadata": {},
   "outputs": [],
   "source": [
    "type(dff)"
   ]
  },
  {
   "cell_type": "code",
   "execution_count": null,
   "metadata": {},
   "outputs": [],
   "source": [
    "dff=dff.reset_index(level=[0,1])"
   ]
  },
  {
   "cell_type": "code",
   "execution_count": null,
   "metadata": {},
   "outputs": [],
   "source": [
    "dff.columns"
   ]
  },
  {
   "cell_type": "code",
   "execution_count": null,
   "metadata": {},
   "outputs": [],
   "source": [
    "fig=px.bar(\n",
    "    dff,\n",
    "    x='year',\n",
    "    y='suicides_no',\n",
    "    color='sex'\n",
    "\n",
    ")\n",
    "\n",
    "fig.update_layout(\n",
    "    updatemenus=[\n",
    "        go.layout.Updatemenu(\n",
    "            type='buttons',direction='right',active=0,x=0.1,y=1.2,\n",
    "            buttons=list(\n",
    "                [\n",
    "                    dict(\n",
    "                        label=\"Both\",method=\"update\",\n",
    "                        args=[{\"visible\":[True,True]},{\"title\":\"Total Suicides_count yearwise\"}]\n",
    "                    ),\n",
    "                    dict(\n",
    "                        label=\"Female\",method=\"update\",\n",
    "                        args=[{\"visible\":[True,False]},{\"title\":\"Female Suicides_count yearwise\"}]\n",
    "                    ),\n",
    "                    dict(\n",
    "                        label=\"Male\",method=\"update\",\n",
    "                        args=[{\"visible\":[False,True]},{\"title\":\"Male Suicides_count yearwise\"}]\n",
    "                    )\n",
    "                \n",
    "                ]\n",
    "            )\n",
    "        )\n",
    "    ],\n",
    "    \n",
    "    title={\n",
    "        'text':\"Gender_wise Suicides count from Year(1985-2016)\",\n",
    "        'y':0.9,\n",
    "        'x':0.5,\n",
    "        'xanchor':'center',\n",
    "        'yanchor':'top'\n",
    "        \n",
    "    },\n",
    "    \n",
    "    yaxis=dict(\n",
    "        title=\"Suicides Count\",\n",
    "       ),\n",
    "    xaxis=dict(\n",
    "        title=\"Years\",\n",
    "       )\n",
    ")\n",
    "\n",
    "\n",
    "po.plot(fig)"
   ]
  },
  {
   "cell_type": "code",
   "execution_count": null,
   "metadata": {},
   "outputs": [],
   "source": [
    "df.columns"
   ]
  },
  {
   "cell_type": "code",
   "execution_count": null,
   "metadata": {},
   "outputs": [],
   "source": [
    "yr_gen_scount=df.groupby(['year','sex'])['suicides/100k pop'].sum()\n",
    "print(yr_gen_scount)"
   ]
  },
  {
   "cell_type": "code",
   "execution_count": null,
   "metadata": {},
   "outputs": [],
   "source": [
    "nz=yr_gen_scount.reset_index(level=[0,1])\n",
    "print(nz)"
   ]
  },
  {
   "cell_type": "code",
   "execution_count": null,
   "metadata": {},
   "outputs": [],
   "source": [
    "nz.columns"
   ]
  },
  {
   "cell_type": "code",
   "execution_count": null,
   "metadata": {},
   "outputs": [],
   "source": [
    "fig=px.line(\n",
    "    nz,\n",
    "    x=\"year\",\n",
    "    y=\"suicides/100k pop\",\n",
    "    color='sex',\n",
    ")\n",
    "\n",
    "fig.update_traces(\n",
    "    mode=\"lines+markers\"\n",
    ")\n",
    "\n",
    "fig.update_layout(\n",
    "    title={\n",
    "        'text':\"Year(1985-2016) Wise Suicides/100k pop\",\n",
    "        'y':0.9,\n",
    "        'x':0.5,\n",
    "        'xanchor':'center',\n",
    "        'yanchor':'top'\n",
    "    },\n",
    "    \n",
    "   yaxis=dict(\n",
    "        \n",
    "        title='Suicides/100k pop',\n",
    "       \n",
    "    ),\n",
    "    xaxis=dict(\n",
    "        title=\"Years\",\n",
    "       \n",
    "    ),\n",
    ")\n",
    "\n",
    "po.plot(fig)"
   ]
  },
  {
   "cell_type": "markdown",
   "metadata": {},
   "source": [
    "### AGE Wise Analysis\n"
   ]
  },
  {
   "cell_type": "code",
   "execution_count": 19,
   "metadata": {},
   "outputs": [
    {
     "name": "stdout",
     "output_type": "stream",
     "text": [
      "age\n",
      "15-24 years     808542\n",
      "25-34 years    1123912\n",
      "35-54 years    2452141\n",
      "5-14 years       52264\n",
      "55-74 years    1658443\n",
      "75+ years       653118\n",
      "Name: suicides_no, dtype: int64\n"
     ]
    }
   ],
   "source": [
    "age_scount=df.groupby('age')['suicides_no'].sum()\n",
    "print(age_scount)"
   ]
  },
  {
   "cell_type": "code",
   "execution_count": 20,
   "metadata": {},
   "outputs": [
    {
     "data": {
      "text/plain": [
       "'temp-plot.html'"
      ]
     },
     "execution_count": 20,
     "metadata": {},
     "output_type": "execute_result"
    }
   ],
   "source": [
    "layout=go.Layout(\n",
    "    title={\n",
    "        'text':\"World-Wide Suicides by Age-Group [Years(1985-2016)]\",\n",
    "        'y':0.9,\n",
    "        'x':0.5,\n",
    "        'xanchor':'center',\n",
    "        'yanchor':'top'\n",
    "        \n",
    "    },\n",
    ")\n",
    "\n",
    "trace0=go.Pie(\n",
    "    labels=age_scount.index,\n",
    "    values=age_scount.values\n",
    ")\n",
    "\n",
    "\n",
    "\n",
    "data=[trace0]\n",
    "\n",
    "fig=go.Figure(data=data,layout=layout)\n",
    "po.plot(fig)"
   ]
  },
  {
   "cell_type": "code",
   "execution_count": null,
   "metadata": {},
   "outputs": [],
   "source": [
    "ndf=df.groupby(['age','year'])['suicides/100k pop'].mean()"
   ]
  },
  {
   "cell_type": "code",
   "execution_count": null,
   "metadata": {},
   "outputs": [],
   "source": [
    "ndf=pd.DataFrame(ndf)\n"
   ]
  },
  {
   "cell_type": "code",
   "execution_count": null,
   "metadata": {},
   "outputs": [],
   "source": [
    "ndf=ndf.reset_index(level=[0,1])"
   ]
  },
  {
   "cell_type": "code",
   "execution_count": null,
   "metadata": {},
   "outputs": [],
   "source": [
    "ndf.columns"
   ]
  },
  {
   "cell_type": "code",
   "execution_count": null,
   "metadata": {},
   "outputs": [],
   "source": [
    "ndf"
   ]
  },
  {
   "cell_type": "code",
   "execution_count": null,
   "metadata": {},
   "outputs": [],
   "source": [
    "fig=px.line(\n",
    "    ndf,\n",
    "    x='year',\n",
    "    y='suicides/100k pop',\n",
    "    color='age'\n",
    ")\n",
    "\n",
    "fig.update_traces(\n",
    "    mode=\"lines+markers\"\n",
    ")\n",
    "\n",
    "fig.update_layout(\n",
    "    title={\n",
    "        'text':\"Year(1985-2016) Wise Suicides/100k pop\",\n",
    "        'y':0.9,\n",
    "        'x':0.5,\n",
    "        'xanchor':'center',\n",
    "        'yanchor':'top'\n",
    "    },\n",
    "    \n",
    "   yaxis=dict(\n",
    "        \n",
    "        title='Suicides/100k pop',\n",
    "       \n",
    "    ),\n",
    "    xaxis=dict(\n",
    "        title=\"Years\",\n",
    "       \n",
    "    ),\n",
    ")\n",
    "\n",
    "po.plot(fig)"
   ]
  },
  {
   "cell_type": "code",
   "execution_count": 21,
   "metadata": {},
   "outputs": [
    {
     "name": "stdout",
     "output_type": "stream",
     "text": [
      "age          sex   \n",
      "15-24 years  female     175437\n",
      "             male       633105\n",
      "25-34 years  female     208823\n",
      "             male       915089\n",
      "35-54 years  female     506233\n",
      "             male      1945908\n",
      "5-14 years   female      16997\n",
      "             male        35267\n",
      "55-74 years  female     430036\n",
      "             male      1228407\n",
      "75+ years    female     221984\n",
      "             male       431134\n",
      "Name: suicides_no, dtype: int64\n"
     ]
    }
   ],
   "source": [
    "ag_gen_scount=df.groupby(['age','sex'])['suicides_no'].sum()\n",
    "print(ag_gen_scount)"
   ]
  },
  {
   "cell_type": "code",
   "execution_count": 22,
   "metadata": {},
   "outputs": [
    {
     "name": "stdout",
     "output_type": "stream",
     "text": [
      "                    suicides_no\n",
      "age         sex                \n",
      "15-24 years female       175437\n",
      "            male         633105\n",
      "25-34 years female       208823\n",
      "            male         915089\n",
      "35-54 years female       506233\n",
      "            male        1945908\n",
      "5-14 years  female        16997\n",
      "            male          35267\n",
      "55-74 years female       430036\n",
      "            male        1228407\n",
      "75+ years   female       221984\n",
      "            male         431134\n"
     ]
    }
   ],
   "source": [
    "type(ag_gen_scount)\n",
    "ag_gen_scount=pd.DataFrame(ag_gen_scount)\n",
    "print(ag_gen_scount)"
   ]
  },
  {
   "cell_type": "code",
   "execution_count": 23,
   "metadata": {},
   "outputs": [
    {
     "name": "stdout",
     "output_type": "stream",
     "text": [
      "            age     sex  suicides_no\n",
      "0   15-24 years  female       175437\n",
      "1   15-24 years    male       633105\n",
      "2   25-34 years  female       208823\n",
      "3   25-34 years    male       915089\n",
      "4   35-54 years  female       506233\n",
      "5   35-54 years    male      1945908\n",
      "6    5-14 years  female        16997\n",
      "7    5-14 years    male        35267\n",
      "8   55-74 years  female       430036\n",
      "9   55-74 years    male      1228407\n",
      "10    75+ years  female       221984\n",
      "11    75+ years    male       431134\n"
     ]
    }
   ],
   "source": [
    "ag_gen_scount=ag_gen_scount.reset_index(level=[0,1])\n",
    "print(ag_gen_scount)"
   ]
  },
  {
   "cell_type": "code",
   "execution_count": 24,
   "metadata": {},
   "outputs": [
    {
     "data": {
      "text/plain": [
       "Index(['age', 'sex', 'suicides_no'], dtype='object')"
      ]
     },
     "execution_count": 24,
     "metadata": {},
     "output_type": "execute_result"
    }
   ],
   "source": [
    "ag_gen_scount.columns"
   ]
  },
  {
   "cell_type": "code",
   "execution_count": 27,
   "metadata": {},
   "outputs": [
    {
     "data": {
      "text/plain": [
       "'temp-plot.html'"
      ]
     },
     "execution_count": 27,
     "metadata": {},
     "output_type": "execute_result"
    }
   ],
   "source": [
    "fig=px.bar(\n",
    "    ag_gen_scount,\n",
    "    x='age',\n",
    "    y='suicides_no',\n",
    "    color='sex'\n",
    ")\n",
    "\n",
    "fig.update_layout(\n",
    "    updatemenus=[\n",
    "        go.layout.Updatemenu(\n",
    "            type='buttons',direction='right',active=0,x=0.1,y=1.2,\n",
    "            buttons=list(\n",
    "                [\n",
    "                    dict(\n",
    "                        label=\"Both\",method=\"update\",\n",
    "                        args=[{\"visible\":[True,True]},{\"title\":\"Total Suicides_count yearwise\"}]\n",
    "                    ),\n",
    "                    dict(\n",
    "                        label=\"Male\",method=\"update\",\n",
    "                        args=[{\"visible\":[True,False]},{\"title\":\"Male Suicides_count yearwise\"}]\n",
    "                    ),\n",
    "                    dict(\n",
    "                        label=\"Female\",method=\"update\",\n",
    "                        args=[{\"visible\":[False,True]},{\"title\":\"Female Suicides_count yearwise\"}]\n",
    "                    )\n",
    "                \n",
    "                ]\n",
    "            )\n",
    "        )\n",
    "    ],\n",
    "    \n",
    "    title={\n",
    "        'text':\"Gender_wise Suicides count from Year(1985-2016)\",\n",
    "        'y':0.9,\n",
    "        'x':0.5,\n",
    "        'xanchor':'center',\n",
    "        'yanchor':'top'\n",
    "        \n",
    "    },\n",
    "    \n",
    "    yaxis=dict(\n",
    "        title=\"Suicides Count\",\n",
    "       ),\n",
    "    xaxis=dict(\n",
    "        title=\"Years\",\n",
    "       )\n",
    ")\n",
    "\n",
    "\n",
    "po.plot(fig)"
   ]
  },
  {
   "cell_type": "markdown",
   "metadata": {},
   "source": [
    "### Country wise Analysis"
   ]
  },
  {
   "cell_type": "code",
   "execution_count": null,
   "metadata": {},
   "outputs": [],
   "source": [
    "world=json.load(open(\"world2.json\",\"r\"))\n"
   ]
  },
  {
   "cell_type": "code",
   "execution_count": null,
   "metadata": {},
   "outputs": [],
   "source": [
    "world['features'][0].keys()"
   ]
  },
  {
   "cell_type": "code",
   "execution_count": null,
   "metadata": {},
   "outputs": [],
   "source": [
    "\n",
    "world['features'][13]['properties']"
   ]
  },
  {
   "cell_type": "code",
   "execution_count": null,
   "metadata": {},
   "outputs": [],
   "source": [
    "world_map={}\n",
    "for feature in world['features']:\n",
    "    world_map[feature['properties']['name']]=feature['id']"
   ]
  },
  {
   "cell_type": "code",
   "execution_count": null,
   "metadata": {},
   "outputs": [],
   "source": [
    "world_map"
   ]
  },
  {
   "cell_type": "code",
   "execution_count": null,
   "metadata": {},
   "outputs": [],
   "source": [
    "df['id']=df['country'].apply(lambda x:world_map[x])\n",
    "    "
   ]
  },
  {
   "cell_type": "code",
   "execution_count": null,
   "metadata": {},
   "outputs": [],
   "source": [
    "df.head()"
   ]
  },
  {
   "cell_type": "code",
   "execution_count": null,
   "metadata": {},
   "outputs": [],
   "source": [
    "nx=df.groupby(['country','id'])['suicides/100k pop'].sum()"
   ]
  },
  {
   "cell_type": "code",
   "execution_count": null,
   "metadata": {},
   "outputs": [],
   "source": [
    "nx=nx.reset_index()"
   ]
  },
  {
   "cell_type": "code",
   "execution_count": null,
   "metadata": {},
   "outputs": [],
   "source": [
    "nx"
   ]
  },
  {
   "cell_type": "code",
   "execution_count": null,
   "metadata": {},
   "outputs": [],
   "source": [
    "nx['country']"
   ]
  },
  {
   "cell_type": "code",
   "execution_count": null,
   "metadata": {},
   "outputs": [],
   "source": [
    "nx.columns"
   ]
  },
  {
   "cell_type": "code",
   "execution_count": null,
   "metadata": {},
   "outputs": [],
   "source": [
    "fig=px.choropleth(nx,locations='id',\n",
    "                  geojson=world,\n",
    "                  color='suicides/100k pop',\n",
    "                  hover_name='country',\n",
    "                  hover_data=['suicides/100k pop']\n",
    "                 )\n",
    "\n",
    "\n",
    "fig.update_layout(\n",
    "            title={\n",
    "            'text':\"Country wise suicides/100k population (Year:- 1985-2016)\",\n",
    "            'y':0.9,\n",
    "            'x':0.5,\n",
    "            'xanchor':'right',\n",
    "            'yanchor':'top'\n",
    "        \n",
    "        }        \n",
    "    )\n",
    "\n",
    "po.plot(fig)"
   ]
  },
  {
   "cell_type": "code",
   "execution_count": null,
   "metadata": {},
   "outputs": [],
   "source": [
    "ndf=df.groupby(['country','year'])['suicides/100k pop'].mean()\n"
   ]
  },
  {
   "cell_type": "code",
   "execution_count": null,
   "metadata": {},
   "outputs": [],
   "source": [
    "ndf=ndf.reset_index(level=[0,1])"
   ]
  },
  {
   "cell_type": "code",
   "execution_count": null,
   "metadata": {},
   "outputs": [],
   "source": [
    "ndf"
   ]
  },
  {
   "cell_type": "code",
   "execution_count": null,
   "metadata": {},
   "outputs": [],
   "source": [
    "tablz=pd.pivot_table(ndf,columns=['country'],index=['year'],values='suicides/100k pop')"
   ]
  },
  {
   "cell_type": "code",
   "execution_count": null,
   "metadata": {},
   "outputs": [],
   "source": [
    "tablz"
   ]
  },
  {
   "cell_type": "code",
   "execution_count": null,
   "metadata": {},
   "outputs": [],
   "source": [
    "traces=[go.Scatter(\n",
    "    x=tablz.index,\n",
    "    y=tablz.loc[:,col_name],\n",
    "    mode='lines+markers',\n",
    "    name=col_name\n",
    ")for col_name in tablz.columns]\n",
    "\n",
    "layout=go.Layout(\n",
    "    title={\n",
    "        'text':\"Year(1985-2016) Wise Suicides/100k pop\",\n",
    "        'y':0.9,\n",
    "        'x':0.5,\n",
    "        'xanchor':'center',\n",
    "        'yanchor':'top'\n",
    "    },\n",
    "    \n",
    "   yaxis=dict(\n",
    "        \n",
    "        title='Suicides/100k pop',\n",
    "       \n",
    "    ),\n",
    "    xaxis=dict(\n",
    "        title=\"Years\",\n",
    "       \n",
    "    ),\n",
    ")\n",
    "\n",
    "\n",
    "myfig=go.Figure(data=traces,layout=layout)\n",
    "po.plot(myfig)"
   ]
  },
  {
   "cell_type": "code",
   "execution_count": null,
   "metadata": {},
   "outputs": [],
   "source": [
    "country=tablz.columns\n",
    "print(country)"
   ]
  },
  {
   "cell_type": "code",
   "execution_count": null,
   "metadata": {},
   "outputs": [],
   "source": [
    "ndf=df.groupby(['year','country'],as_index=False)['suicides_no'].mean()\n",
    "ndf=ndf.set_index('year')\n",
    "print(ndf)"
   ]
  },
  {
   "cell_type": "code",
   "execution_count": null,
   "metadata": {},
   "outputs": [],
   "source": [
    "app=dash.Dash(__name__)\n"
   ]
  },
  {
   "cell_type": "code",
   "execution_count": null,
   "metadata": {},
   "outputs": [],
   "source": [
    "app.layout=html.Div([\n",
    " \n",
    "    html.Div([\n",
    "        \n",
    "        dcc.Graph(id='mygraph')\n",
    "    ],className='nine columns'),\n",
    "    \n",
    "    html.Div([\n",
    "        \n",
    "        html.Br(),\n",
    "        html.Label([\"Choose the 3 country to compare\"],style={'font-weight':'bold',\"text-align\":'center'}),\n",
    "        dcc.Dropdown(id='country_one',\n",
    "            options=[{'label':x,'value':x} for x in ndf.sort_values('country')['country'].unique()],\n",
    "            value=\"Albania\",\n",
    "            multi=False,\n",
    "            disabled=False,\n",
    "            clearable=True,\n",
    "            searchable=True,\n",
    "            placeholder='Choose Country..',\n",
    "            className='form-dropdown',\n",
    "            \n",
    "            persistence='string',\n",
    "            persistence_type='memory'\n",
    "        ),\n",
    "        \n",
    "        dcc.Dropdown(id='country_two',\n",
    "            options=[{'label':x,'value':x} for x in ndf.sort_values('country')['country'].unique()],\n",
    "            value=\"Armenia\",\n",
    "            multi=False,\n",
    "            clearable=False,\n",
    "            persistence='string',\n",
    "            persistence_type='session'\n",
    "        ),\n",
    "        \n",
    "        dcc.Dropdown(id='country_three',\n",
    "            options=[{'label':x,'value':x} for x in ndf.sort_values('country')['country'].unique()],\n",
    "            value=\"Austria\",\n",
    "            multi=False,\n",
    "            clearable=False,\n",
    "            persistence='string',\n",
    "            persistence_type='local'\n",
    "        )\n",
    "        \n",
    "    ],className='three columns'),\n",
    "    \n",
    "])"
   ]
  },
  {
   "cell_type": "code",
   "execution_count": null,
   "metadata": {},
   "outputs": [],
   "source": [
    "@app.callback(\n",
    "    Output('mygraph', 'figure'),\n",
    "    Input('country_one', 'value'),\n",
    "    Input('country_two', 'value'),\n",
    "    Input('country_three', 'value'))\n",
    "\n",
    "\n",
    "def build_graph(first_country,second_country,third_country):\n",
    "    dff=ndf[(ndf['country']==first_country) |\n",
    "            (ndf['country']==second_country) |\n",
    "            (ndf['country']==third_country) ]\n",
    "    \n",
    "    dff=dff.reset_index()\n",
    "    \n",
    "    fig=px.line(dff,x='year',y='suicides_no',color='country',height=600)\n",
    "    fig.update_layout(yaxis={'title':'Suicides_no(mean)'},\n",
    "                      title={'text':'Sucides_no mean Country-wise',\n",
    "                      'font':{'size':28},'x':0.5,'xanchor':'center'})\n",
    "                      \n",
    "    return fig                  \n",
    "    \n",
    "    "
   ]
  },
  {
   "cell_type": "code",
   "execution_count": null,
   "metadata": {},
   "outputs": [],
   "source": [
    "if __name__=='__main__':\n",
    "    app.run_server(debug=False)"
   ]
  },
  {
   "cell_type": "code",
   "execution_count": null,
   "metadata": {},
   "outputs": [],
   "source": []
  },
  {
   "cell_type": "code",
   "execution_count": null,
   "metadata": {},
   "outputs": [],
   "source": [
    "df"
   ]
  },
  {
   "cell_type": "code",
   "execution_count": null,
   "metadata": {},
   "outputs": [],
   "source": [
    " "
   ]
  },
  {
   "cell_type": "code",
   "execution_count": null,
   "metadata": {},
   "outputs": [],
   "source": []
  },
  {
   "cell_type": "code",
   "execution_count": null,
   "metadata": {},
   "outputs": [],
   "source": []
  },
  {
   "cell_type": "code",
   "execution_count": null,
   "metadata": {},
   "outputs": [],
   "source": []
  },
  {
   "cell_type": "code",
   "execution_count": null,
   "metadata": {},
   "outputs": [],
   "source": []
  },
  {
   "cell_type": "code",
   "execution_count": null,
   "metadata": {},
   "outputs": [],
   "source": []
  }
 ],
 "metadata": {
  "kernelspec": {
   "display_name": "Python 3",
   "language": "python",
   "name": "python3"
  },
  "language_info": {
   "codemirror_mode": {
    "name": "ipython",
    "version": 3
   },
   "file_extension": ".py",
   "mimetype": "text/x-python",
   "name": "python",
   "nbconvert_exporter": "python",
   "pygments_lexer": "ipython3",
   "version": "3.7.2"
  }
 },
 "nbformat": 4,
 "nbformat_minor": 4
}
